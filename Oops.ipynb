{
  "nbformat": 4,
  "nbformat_minor": 0,
  "metadata": {
    "colab": {
      "provenance": [],
      "authorship_tag": "ABX9TyPWZctfGRA3RaYq5tDDwfc0",
      "include_colab_link": true
    },
    "kernelspec": {
      "name": "python3",
      "display_name": "Python 3"
    },
    "language_info": {
      "name": "python"
    }
  },
  "cells": [
    {
      "cell_type": "markdown",
      "metadata": {
        "id": "view-in-github",
        "colab_type": "text"
      },
      "source": [
        "<a href=\"https://colab.research.google.com/github/Jeevaganesh04/Python-Practice/blob/main/Oops.ipynb\" target=\"_parent\"><img src=\"https://colab.research.google.com/assets/colab-badge.svg\" alt=\"Open In Colab\"/></a>"
      ]
    },
    {
      "cell_type": "code",
      "execution_count": 1,
      "metadata": {
        "colab": {
          "base_uri": "https://localhost:8080/"
        },
        "id": "r1AyIgO8mNtx",
        "outputId": "e808e5c6-4f95-4fad-9a38-3c9717240fd1"
      },
      "outputs": [
        {
          "output_type": "stream",
          "name": "stdout",
          "text": [
            "30\n",
            "60\n",
            "70\n",
            "67\n"
          ]
        }
      ],
      "source": [
        "class math:\n",
        "    def add(self,a,b,c=0):\n",
        "        return a+b+c\n",
        "\n",
        "value1=math()\n",
        "\n",
        "print(value1.add(10,20))\n",
        "print(value1.add(10,20,30))\n",
        "\n",
        "\n",
        "class maths:\n",
        "    def add(self,*vals):\n",
        "        return sum(vals)\n",
        "\n",
        "value2=maths()\n",
        "print(value2.add(30,40))\n",
        "print(value2.add(34,6,7,9,7,4))"
      ]
    },
    {
      "cell_type": "code",
      "source": [
        "class cnum:\n",
        "    def __init__(self,real,img):\n",
        "        self.real=real\n",
        "        self.img=img\n",
        "\n",
        "    def __add__(self,other):\n",
        "        return cnum(self.real+other.real, self.img+other.img)\n",
        "\n",
        "    def __str__(self):\n",
        "        return f\"{self.real}+{self.img}i\"\n",
        "\n",
        "c1=cnum(2,3)\n",
        "c2=cnum(7,8)\n",
        "\n",
        "result = c1+c2\n",
        "print(result)\n",
        "\n"
      ],
      "metadata": {
        "colab": {
          "base_uri": "https://localhost:8080/"
        },
        "id": "2IqzaWF9xOsY",
        "outputId": "7f07b98f-db24-49df-b7c8-b65b0107d554"
      },
      "execution_count": 3,
      "outputs": [
        {
          "output_type": "stream",
          "name": "stdout",
          "text": [
            "9+11i\n"
          ]
        }
      ]
    },
    {
      "cell_type": "code",
      "source": [
        "class bank:\n",
        "    def __init__(self,balance):\n",
        "        self.__balance=balance\n",
        "\n",
        "    def deposit(self,amount):\n",
        "        self.__balance+=amount\n",
        "        print(f\"New Balance is f{self.__balance}\")\n",
        "\n",
        "    def withdraw(self,withdraw):\n",
        "        self.__balance-=withdraw\n",
        "        print(f\"Final Balance is f{self.__balance}\")\n",
        "\n",
        "    def display(self):\n",
        "        return self.__balance\n",
        "\n",
        "c1=bank(500)\n",
        "c1.deposit(300)\n",
        "c1.withdraw(650)\n",
        "print(c1.__balance)"
      ],
      "metadata": {
        "colab": {
          "base_uri": "https://localhost:8080/",
          "height": 211
        },
        "id": "jllgR2lV0-s3",
        "outputId": "bc7fe341-a400-42ce-bbb8-f673b7ddda36"
      },
      "execution_count": 4,
      "outputs": [
        {
          "output_type": "stream",
          "name": "stdout",
          "text": [
            "New Balance is f800\n",
            "Final Balance is f150\n"
          ]
        },
        {
          "output_type": "error",
          "ename": "AttributeError",
          "evalue": "'bank' object has no attribute '__balance'",
          "traceback": [
            "\u001b[0;31m---------------------------------------------------------------------------\u001b[0m",
            "\u001b[0;31mAttributeError\u001b[0m                            Traceback (most recent call last)",
            "\u001b[0;32m<ipython-input-4-bd9dae2ecfcc>\u001b[0m in \u001b[0;36m<cell line: 0>\u001b[0;34m()\u001b[0m\n\u001b[1;32m     17\u001b[0m \u001b[0mc1\u001b[0m\u001b[0;34m.\u001b[0m\u001b[0mdeposit\u001b[0m\u001b[0;34m(\u001b[0m\u001b[0;36m300\u001b[0m\u001b[0;34m)\u001b[0m\u001b[0;34m\u001b[0m\u001b[0;34m\u001b[0m\u001b[0m\n\u001b[1;32m     18\u001b[0m \u001b[0mc1\u001b[0m\u001b[0;34m.\u001b[0m\u001b[0mwithdraw\u001b[0m\u001b[0;34m(\u001b[0m\u001b[0;36m650\u001b[0m\u001b[0;34m)\u001b[0m\u001b[0;34m\u001b[0m\u001b[0;34m\u001b[0m\u001b[0m\n\u001b[0;32m---> 19\u001b[0;31m \u001b[0mprint\u001b[0m\u001b[0;34m(\u001b[0m\u001b[0mc1\u001b[0m\u001b[0;34m.\u001b[0m\u001b[0m__balance\u001b[0m\u001b[0;34m)\u001b[0m\u001b[0;34m\u001b[0m\u001b[0;34m\u001b[0m\u001b[0m\n\u001b[0m",
            "\u001b[0;31mAttributeError\u001b[0m: 'bank' object has no attribute '__balance'"
          ]
        }
      ]
    },
    {
      "cell_type": "code",
      "source": [
        "class Shape:\n",
        "    def __init__(self):\n",
        "        print(\"This the parent class\")\n",
        "\n",
        "class Circle(Shape):\n",
        "        def __init__(self,radius):\n",
        "            super().__init__()\n",
        "            self.radius=radius\n",
        "\n",
        "        def area(self):\n",
        "            print(f\"Area of circle is: {3.14*self.radius*self.radius}\")\n",
        "\n",
        "class Rectangle(Shape):\n",
        "        def __init__(self,length,width):\n",
        "            super().__init__()\n",
        "            self.length=length\n",
        "            self.width=width\n",
        "\n",
        "        def area(self):\n",
        "            print(f\"Area of rectangle is: {self.length*self.width}\")\n",
        "\n",
        "\n",
        "circle1=Circle(6)\n",
        "rectangle1=Rectangle(4,6)\n",
        "\n",
        "circle1.area()\n",
        "rectangle1.area()\n",
        "\n",
        "\n"
      ],
      "metadata": {
        "colab": {
          "base_uri": "https://localhost:8080/"
        },
        "id": "plFTAwsT_9Hz",
        "outputId": "24376524-9f60-43bf-ad39-7673d8180258"
      },
      "execution_count": 5,
      "outputs": [
        {
          "output_type": "stream",
          "name": "stdout",
          "text": [
            "This the parent class\n",
            "This the parent class\n",
            "Area of circle is: 113.03999999999999\n",
            "Area of rectangle is: 24\n"
          ]
        }
      ]
    }
  ]
}