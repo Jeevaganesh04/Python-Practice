{
  "nbformat": 4,
  "nbformat_minor": 0,
  "metadata": {
    "colab": {
      "provenance": [],
      "authorship_tag": "ABX9TyNDD60OvTMnr/o2x+I7q0Ia",
      "include_colab_link": true
    },
    "kernelspec": {
      "name": "python3",
      "display_name": "Python 3"
    },
    "language_info": {
      "name": "python"
    }
  },
  "cells": [
    {
      "cell_type": "markdown",
      "metadata": {
        "id": "view-in-github",
        "colab_type": "text"
      },
      "source": [
        "<a href=\"https://colab.research.google.com/github/Jeevaganesh04/Python-Practice/blob/main/Sorting.ipynb\" target=\"_parent\"><img src=\"https://colab.research.google.com/assets/colab-badge.svg\" alt=\"Open In Colab\"/></a>"
      ]
    },
    {
      "cell_type": "code",
      "execution_count": 3,
      "metadata": {
        "colab": {
          "base_uri": "https://localhost:8080/"
        },
        "id": "NIOBH7Vsk6Qe",
        "outputId": "c0d5ba17-9925-49c4-b152-37af0e41b2be"
      },
      "outputs": [
        {
          "output_type": "stream",
          "name": "stdout",
          "text": [
            "[1, 2, 5, 5, 6, 9]\n"
          ]
        }
      ],
      "source": [
        "#bubblesort\n",
        "def bubblesort(arr):\n",
        "  n=len(arr)\n",
        "  for i in range(n):\n",
        "    for j in range(n-i-1):\n",
        "      if arr[j]>arr[j+1]:\n",
        "        arr[j],arr[j+1]=arr[j+1],arr[j]\n",
        "\n",
        "lst=[5,2,9,1,5,6]\n",
        "bubblesort(lst)\n",
        "print(lst)"
      ]
    },
    {
      "cell_type": "code",
      "source": [
        "#bubblesort\n",
        "def bubblesort(arr):\n",
        "  n=len(arr)\n",
        "  count=0\n",
        "  for i in range(n):\n",
        "    for j in range(n-i-1):\n",
        "      if arr[j]>arr[j+1]:\n",
        "        arr[j],arr[j+1]=arr[j+1],arr[j]\n",
        "        count+=1\n",
        "  return count\n",
        "\n",
        "lst=[5,2,9,1,5,6]\n",
        "count=bubblesort(lst)\n",
        "print(count)"
      ],
      "metadata": {
        "colab": {
          "base_uri": "https://localhost:8080/"
        },
        "id": "jj2T_Qqol9EG",
        "outputId": "749d5689-3605-44ed-8654-3c7ec4e8f98d"
      },
      "execution_count": 10,
      "outputs": [
        {
          "output_type": "stream",
          "name": "stdout",
          "text": [
            "6\n"
          ]
        }
      ]
    },
    {
      "cell_type": "code",
      "source": [
        "#mergesort\n",
        "def mergesort(arr):\n",
        "  if len(arr)>1:\n",
        "    left=arr[:len(arr)//2]\n",
        "    right=arr[len(arr)//2:]\n",
        "\n",
        "    mergesort(left)\n",
        "    mergesort(right)\n",
        "\n",
        "    i=j=k=0\n",
        "\n",
        "    while i<len(left) and j<len(right):\n",
        "      if left[i]<right[j]:\n",
        "        arr[k]=left[i]\n",
        "        i+=1\n",
        "      else:\n",
        "        arr[k]=right[j]\n",
        "        j+=1\n",
        "      k+=1\n",
        "\n",
        "    while i<len(left):\n",
        "      arr[k]=left[i]\n",
        "      i+=1\n",
        "      k+=1\n",
        "\n",
        "    while j<len(right):\n",
        "      arr[k]=right[j]\n",
        "      j+=1\n",
        "      k+=1\n",
        "\n",
        "\n",
        "lst=[12,11,13,5,6,7]\n",
        "mergesort(lst)\n",
        "print(lst)\n"
      ],
      "metadata": {
        "colab": {
          "base_uri": "https://localhost:8080/"
        },
        "id": "EcrPJw6dqLrC",
        "outputId": "6425c23c-9303-4525-d53d-cdee578d89ea"
      },
      "execution_count": 5,
      "outputs": [
        {
          "output_type": "stream",
          "name": "stdout",
          "text": [
            "[5, 6, 7, 11, 12, 13]\n"
          ]
        }
      ]
    },
    {
      "cell_type": "code",
      "source": [
        "#mergesort\n",
        "def mergesort(arr):\n",
        "  if len(arr)>1:\n",
        "    left=arr[:len(arr)//2]\n",
        "    right=arr[len(arr)//2:]\n",
        "\n",
        "    mergesort(left)\n",
        "    mergesort(right)\n",
        "\n",
        "    i=j=k=0\n",
        "\n",
        "    while i<len(left) and j<len(right):\n",
        "      if left[i]<right[j]:\n",
        "        arr[k]=left[i]\n",
        "        i+=1\n",
        "      else:\n",
        "        arr[k]=right[j]\n",
        "        j+=1\n",
        "      k+=1\n",
        "\n",
        "    while i<len(left):\n",
        "      arr[k]=left[i]\n",
        "      i+=1\n",
        "      k+=1\n",
        "\n",
        "    while j<len(right):\n",
        "      arr[k]=right[j]\n",
        "      j+=1\n",
        "      k+=1\n",
        "\n",
        "\n",
        "lst=[\"banana\",\"apple\",\"grape\",\"cherry\"]\n",
        "mergesort(lst)\n",
        "print(lst)\n"
      ],
      "metadata": {
        "colab": {
          "base_uri": "https://localhost:8080/"
        },
        "id": "FLI-WeakKxDM",
        "outputId": "c70b6485-ca77-45cf-e96b-edf67e48f703"
      },
      "execution_count": 6,
      "outputs": [
        {
          "output_type": "stream",
          "name": "stdout",
          "text": [
            "['apple', 'banana', 'cherry', 'grape']\n"
          ]
        }
      ]
    },
    {
      "cell_type": "code",
      "source": [
        "#Quicksort\n",
        "def quicksort(arr):\n",
        "  if len(arr)<=1:\n",
        "    return arr\n",
        "\n",
        "\n",
        "  pivot =arr[len(arr)//2]\n",
        "  left = [x for x in arr if x<pivot]\n",
        "  middle =[x for x in arr if x==pivot]\n",
        "  right =[x for x in arr if x>pivot]\n",
        "\n",
        "  return quicksort(left)+middle+quicksort(right)\n",
        "\n",
        "lst=[4,2,6,9,7,3,1]\n",
        "res=quicksort(lst)\n",
        "print(res)"
      ],
      "metadata": {
        "colab": {
          "base_uri": "https://localhost:8080/"
        },
        "id": "7B_Z6H6hTauL",
        "outputId": "3b3f2990-872a-496b-e8b6-7dd4200e75a9"
      },
      "execution_count": 3,
      "outputs": [
        {
          "output_type": "stream",
          "name": "stdout",
          "text": [
            "[1, 2, 3, 4, 6, 7, 9]\n"
          ]
        }
      ]
    },
    {
      "cell_type": "code",
      "source": [
        "#Recursive count\n",
        "def quicksort(arr):\n",
        "  global recursive_count\n",
        "  recursive_count += 1\n",
        "\n",
        "  if len(arr)<=1:\n",
        "    return arr\n",
        "\n",
        "\n",
        "  pivot =arr[len(arr)//2]\n",
        "  left = [x for x in arr if x<pivot]\n",
        "  middle =[x for x in arr if x==pivot]\n",
        "  right =[x for x in arr if x>pivot]\n",
        "\n",
        "  return quicksort(left)+middle+quicksort(right)\n",
        "\n",
        "lst=[4,2,6,9,7,3,1]\n",
        "recursive_count=0\n",
        "res=quicksort(lst)\n",
        "print(f\"Recursive Function executed {recursive_count} times\")"
      ],
      "metadata": {
        "colab": {
          "base_uri": "https://localhost:8080/"
        },
        "id": "JS3nh0dPbNE2",
        "outputId": "07bb95e0-16d8-4a4f-b41f-2cba91169936"
      },
      "execution_count": 7,
      "outputs": [
        {
          "output_type": "stream",
          "name": "stdout",
          "text": [
            "Recursive Function executed 11 times\n"
          ]
        }
      ]
    },
    {
      "cell_type": "code",
      "source": [
        "#linear search\n",
        "\n",
        "def linear_search(arr,target):\n",
        "  for i in range(len(arr)):\n",
        "    if arr[i]==target:\n",
        "      return i\n",
        "  return -1\n",
        "\n",
        "\n",
        "lst=[12,56,98,45,23,87]\n",
        "target=45\n",
        "res=linear_search(lst,target)\n",
        "print(res)"
      ],
      "metadata": {
        "colab": {
          "base_uri": "https://localhost:8080/"
        },
        "id": "yQDAyD739ltQ",
        "outputId": "245d1330-37ef-4adc-a223-c0786ea39512"
      },
      "execution_count": 8,
      "outputs": [
        {
          "output_type": "stream",
          "name": "stdout",
          "text": [
            "3\n"
          ]
        }
      ]
    },
    {
      "cell_type": "code",
      "source": [
        "#linear search count\n",
        "\n",
        "def linear_search(arr,target):\n",
        "  global count\n",
        "  for i in range(len(arr)):\n",
        "    count+=1\n",
        "    if arr[i]==target:\n",
        "      return i\n",
        "  return -1\n",
        "\n",
        "\n",
        "lst=[12,56,98,45,23,87]\n",
        "target=45\n",
        "res=linear_search(lst,target)\n",
        "print(f\"Linear Search executed {count} times\")"
      ],
      "metadata": {
        "colab": {
          "base_uri": "https://localhost:8080/"
        },
        "id": "GtWR14-m-J14",
        "outputId": "0f8635f7-b285-4026-cadd-b73b3835e932"
      },
      "execution_count": 12,
      "outputs": [
        {
          "output_type": "stream",
          "name": "stdout",
          "text": [
            "Linear Search executed 6 times\n"
          ]
        }
      ]
    },
    {
      "cell_type": "code",
      "source": [
        "#Binary Search\n",
        "\n",
        "def binary_search(arr,target):\n",
        "  left,right = 0,len(arr)-1\n",
        "\n",
        "  while left<=right:\n",
        "    mid=(left+right)//2\n",
        "\n",
        "    if arr[mid]==target:\n",
        "      return mid\n",
        "    elif arr[mid]<=target:\n",
        "      left=mid+1\n",
        "    else:\n",
        "      right=mid-1\n",
        "\n",
        "  return-1\n",
        "\n",
        "lst=[3,8,12,17,25,30]\n",
        "target=25\n",
        "res=binary_search(lst,target)\n",
        "print(res)"
      ],
      "metadata": {
        "colab": {
          "base_uri": "https://localhost:8080/"
        },
        "id": "NYUFT86RAAmX",
        "outputId": "a8568ecc-e25e-45b6-dfbe-a39b90328140"
      },
      "execution_count": 13,
      "outputs": [
        {
          "output_type": "stream",
          "name": "stdout",
          "text": [
            "4\n"
          ]
        }
      ]
    },
    {
      "cell_type": "code",
      "source": [
        "#Binary Search rotated sorted array\n",
        "\n",
        "def binary_search(arr,target):\n",
        "  left,right = 0,len(arr)-1\n",
        "\n",
        "  while left<=right:\n",
        "    mid=(left+right)//2\n",
        "\n",
        "    if arr[mid]==target:\n",
        "      return mid\n",
        "\n",
        "    if arr[left]<=arr[mid]:\n",
        "      if arr[left]<=target<arr[mid]:\n",
        "        right=mid+1\n",
        "      else:\n",
        "        left=mid-1\n",
        "    else:\n",
        "      if[mid]<target<arr[right]:\n",
        "        left=mid+1\n",
        "      else:\n",
        "        right=mid-1\n",
        "  return-1\n",
        "\n",
        "\n",
        "\n",
        "lst=[40,50,60,10,20,30]\n",
        "target=10\n",
        "res=binary_search(lst,target)\n",
        "print(res)"
      ],
      "metadata": {
        "colab": {
          "base_uri": "https://localhost:8080/"
        },
        "id": "_mLJ0r_2BkvM",
        "outputId": "eed4c992-e4d5-45fc-ea5f-60c3091ba2a8"
      },
      "execution_count": 18,
      "outputs": [
        {
          "output_type": "stream",
          "name": "stdout",
          "text": [
            "3\n"
          ]
        }
      ]
    }
  ]
}