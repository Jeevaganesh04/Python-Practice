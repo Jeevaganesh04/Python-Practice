{
  "nbformat": 4,
  "nbformat_minor": 0,
  "metadata": {
    "colab": {
      "provenance": [],
      "authorship_tag": "ABX9TyMx+h06RF8yrHzoq3guRrP0",
      "include_colab_link": true
    },
    "kernelspec": {
      "name": "python3",
      "display_name": "Python 3"
    },
    "language_info": {
      "name": "python"
    }
  },
  "cells": [
    {
      "cell_type": "markdown",
      "metadata": {
        "id": "view-in-github",
        "colab_type": "text"
      },
      "source": [
        "<a href=\"https://colab.research.google.com/github/Jeevaganesh04/Python-Practice/blob/main/Set.ipynb\" target=\"_parent\"><img src=\"https://colab.research.google.com/assets/colab-badge.svg\" alt=\"Open In Colab\"/></a>"
      ]
    },
    {
      "cell_type": "code",
      "source": [
        "num=[10,20,30,10,20,20]\n",
        "print(set(num))"
      ],
      "metadata": {
        "colab": {
          "base_uri": "https://localhost:8080/"
        },
        "id": "Pf8eTQEtf3vf",
        "outputId": "4d9fc11d-950a-4b81-d2bf-befcef4de38e"
      },
      "execution_count": 2,
      "outputs": [
        {
          "output_type": "stream",
          "name": "stdout",
          "text": [
            "{10, 20, 30}\n"
          ]
        }
      ]
    },
    {
      "cell_type": "code",
      "execution_count": 1,
      "metadata": {
        "colab": {
          "base_uri": "https://localhost:8080/"
        },
        "id": "tagLvGnsft2I",
        "outputId": "9f690da9-dced-4fe7-cbf4-175e74259d73"
      },
      "outputs": [
        {
          "output_type": "stream",
          "name": "stdout",
          "text": [
            "{'is', 'easy', 'and', 'Python', 'great'}\n"
          ]
        }
      ],
      "source": [
        "sent=\"Python is great and Python is easy\"\n",
        "splt=sent.split()\n",
        "print(set(splt))"
      ]
    },
    {
      "cell_type": "code",
      "source": [
        "f1=\"apple\"\n",
        "f2=\"grape\"\n",
        "\n",
        "u1=set(f1)\n",
        "u2=set(f2)\n",
        "\n",
        "print(u1&u2)"
      ],
      "metadata": {
        "colab": {
          "base_uri": "https://localhost:8080/"
        },
        "id": "HOlnuhcEgfj1",
        "outputId": "51567560-a5ef-413f-991c-475d0018e8ee"
      },
      "execution_count": 3,
      "outputs": [
        {
          "output_type": "stream",
          "name": "stdout",
          "text": [
            "{'p', 'a', 'e'}\n"
          ]
        }
      ]
    }
  ]
}