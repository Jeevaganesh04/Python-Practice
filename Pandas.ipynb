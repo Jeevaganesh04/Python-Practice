{
  "nbformat": 4,
  "nbformat_minor": 0,
  "metadata": {
    "colab": {
      "provenance": [],
      "authorship_tag": "ABX9TyPW684ybNj7mNtL6SIxQy8g",
      "include_colab_link": true
    },
    "kernelspec": {
      "name": "python3",
      "display_name": "Python 3"
    },
    "language_info": {
      "name": "python"
    }
  },
  "cells": [
    {
      "cell_type": "markdown",
      "metadata": {
        "id": "view-in-github",
        "colab_type": "text"
      },
      "source": [
        "<a href=\"https://colab.research.google.com/github/Jeevaganesh04/Python-Practice/blob/main/Pandas.ipynb\" target=\"_parent\"><img src=\"https://colab.research.google.com/assets/colab-badge.svg\" alt=\"Open In Colab\"/></a>"
      ]
    },
    {
      "cell_type": "code",
      "execution_count": 2,
      "metadata": {
        "colab": {
          "base_uri": "https://localhost:8080/"
        },
        "id": "MKm1cQfdAjp8",
        "outputId": "8450578c-0023-445f-f1c4-83cce716621f"
      },
      "outputs": [
        {
          "output_type": "stream",
          "name": "stdout",
          "text": [
            "   Name  Age        City               Job\n",
            "0  Tony   50  New Jersey  Waste Management\n",
            "1  Saul   45  New Mexico            Lawyer\n",
            "2   Jax   30  California            Outlaw\n"
          ]
        }
      ],
      "source": [
        "import pandas as pd\n",
        "\n",
        "data = {\n",
        "    'Name':['Tony','Saul','Jax'],\n",
        "    'Age':[50,45,30],\n",
        "    'City':['New Jersey','New Mexico','California']\n",
        "}\n",
        "\n",
        "df = pd.DataFrame(data)\n",
        "\n",
        "df['Job']=['Waste Management','Lawyer','Outlaw']\n",
        "\n",
        "print(df)"
      ]
    },
    {
      "cell_type": "code",
      "source": [
        "import pandas as pd\n",
        "\n",
        "data = {\n",
        "    'Name': ['John', 'Emma', 'Liam', None],\n",
        "    'Age': [28, None, 24, 30],\n",
        "    'Salary': [45000, 52000, None, 60000]\n",
        "}\n",
        "df = pd.DataFrame(data)\n",
        "\n",
        "df['Age'] = df['Age'].fillna(df['Age'].mean())\n",
        "\n",
        "df.dropna(subset=['Name'], inplace=True)\n",
        "\n",
        "print(df)\n"
      ],
      "metadata": {
        "colab": {
          "base_uri": "https://localhost:8080/"
        },
        "id": "fD3Rl_euE95D",
        "outputId": "6cb6e49d-bd83-4f84-f559-39480603ea51"
      },
      "execution_count": 10,
      "outputs": [
        {
          "output_type": "stream",
          "name": "stdout",
          "text": [
            "   Name        Age   Salary\n",
            "0  John  28.000000  45000.0\n",
            "1  Emma  27.333333  52000.0\n",
            "2  Liam  24.000000      NaN\n"
          ]
        }
      ]
    },
    {
      "cell_type": "code",
      "source": [
        "import pandas as pd\n",
        "\n",
        "data = {\n",
        "    'Name': ['John', 'Emma', 'Liam', None],\n",
        "    'Age': [28, None, 24, 30],\n",
        "    'Salary': [45000, 52000, None, 60000]\n",
        "}\n",
        "df = pd.DataFrame(data)\n",
        "\n",
        "f1=df[df['Age']<30]\n",
        "f2=df[(df['Salary']>=45000) & (df['Salary']<60000)]\n",
        "\n",
        "print(f1)\n",
        "print(f2)"
      ],
      "metadata": {
        "colab": {
          "base_uri": "https://localhost:8080/"
        },
        "id": "w3JbL2IgIqoL",
        "outputId": "6bbc855b-3a72-4d5e-f4ed-3ab42c45787e"
      },
      "execution_count": 12,
      "outputs": [
        {
          "output_type": "stream",
          "name": "stdout",
          "text": [
            "   Name   Age   Salary\n",
            "0  John  28.0  45000.0\n",
            "2  Liam  24.0      NaN\n",
            "   Name   Age   Salary\n",
            "0  John  28.0  45000.0\n",
            "1  Emma   NaN  52000.0\n"
          ]
        }
      ]
    },
    {
      "cell_type": "code",
      "source": [
        "import pandas as pd\n",
        "\n",
        "data = {\n",
        "    'Name': ['John', 'Emma', 'Liam', None],\n",
        "    'Age': [28, None, 24, 30],\n",
        "    'Salary': [45000, 52000, None, 60000],\n",
        "    'Department':['IT','HR','TS','MANAGER']\n",
        "}\n",
        "df = pd.DataFrame(data)\n",
        "df['Salary']=df['Salary'].fillna(0)\n",
        "grp = df.groupby('Department')['Salary'].mean()\n",
        "\n",
        "print(grp)"
      ],
      "metadata": {
        "colab": {
          "base_uri": "https://localhost:8080/"
        },
        "id": "NpVvrIOOJ3Fu",
        "outputId": "126d0e7e-b029-42ed-f35b-2fed17a5a777"
      },
      "execution_count": 15,
      "outputs": [
        {
          "output_type": "stream",
          "name": "stdout",
          "text": [
            "Department\n",
            "HR         52000.0\n",
            "IT         45000.0\n",
            "MANAGER    60000.0\n",
            "TS             0.0\n",
            "Name: Salary, dtype: float64\n"
          ]
        }
      ]
    },
    {
      "cell_type": "code",
      "source": [
        "import numpy as np\n",
        "\n",
        "arr=(np.random.randint(1,100,(3,3)))\n",
        "print(arr)"
      ],
      "metadata": {
        "colab": {
          "base_uri": "https://localhost:8080/"
        },
        "id": "s5dOin5DLUec",
        "outputId": "83f6faf6-a6fb-4475-e9c6-6e3976ac9674"
      },
      "execution_count": 17,
      "outputs": [
        {
          "output_type": "stream",
          "name": "stdout",
          "text": [
            "[[48 79 81]\n",
            " [17 67 40]\n",
            " [83 85 97]]\n"
          ]
        }
      ]
    },
    {
      "cell_type": "code",
      "source": [
        "import numpy as np\n",
        "\n",
        "arr1=np.array([34,67,21])\n",
        "arr2=np.array([87,25,59])\n",
        "\n",
        "print('Addition: ',arr1+arr2)\n",
        "print('Subtraction: ',arr1-arr2)\n",
        "print('Division: ',arr1/arr2)\n",
        "print('Multiplication: ',arr1*arr2)"
      ],
      "metadata": {
        "colab": {
          "base_uri": "https://localhost:8080/"
        },
        "id": "sQuk7tzZL52d",
        "outputId": "2d817642-13e4-45e3-9200-4c0318093860"
      },
      "execution_count": 20,
      "outputs": [
        {
          "output_type": "stream",
          "name": "stdout",
          "text": [
            "Addition:  [121  92  80]\n",
            "Subtraction:  [-53  42 -38]\n",
            "Division:  [0.3908046 2.68      0.3559322]\n",
            "Multiplication:  [2958 1675 1239]\n"
          ]
        }
      ]
    },
    {
      "cell_type": "code",
      "source": [
        "from sklearn.linear_model import LinearRegression\n",
        "import numpy as np\n",
        "\n",
        "data={\n",
        "    'Size (sqft)':[1000,1500,2000,2500,3000],\n",
        "    'Price ($)':[300000,400000,500000,600000,700000]\n",
        "}\n",
        "\n",
        "X=np.array(data['Size (sqft)']).reshape(-1,1)\n",
        "y=np.array(data['Price ($)'])\n",
        "\n",
        "model=LinearRegression()\n",
        "model.fit(X,y)\n",
        "\n",
        "price=model.predict([[2200]])\n",
        "print(f\"{price[0]:,.2f}\")"
      ],
      "metadata": {
        "colab": {
          "base_uri": "https://localhost:8080/"
        },
        "id": "OJ0H4ihzPLi7",
        "outputId": "17153928-47f7-46b1-d428-8b1f183bbe5f"
      },
      "execution_count": 3,
      "outputs": [
        {
          "output_type": "stream",
          "name": "stdout",
          "text": [
            "540,000.00\n"
          ]
        }
      ]
    },
    {
      "cell_type": "code",
      "source": [
        "from sklearn.tree import DecisionTreeClassifier\n",
        "import pandas as pd\n",
        "\n",
        "data = {\n",
        "    'Attendance':[85,60,75,90,40],\n",
        "    'Study Hours':[10,3,7,15,2],\n",
        "    'Previous Score':[70,50,65,80,30],\n",
        "    'Pass/Fail':[1,0,1,1,0]\n",
        "}\n",
        "\n",
        "df=pd.DataFrame(data)\n",
        "\n",
        "X=df[['Attendance','Study Hours','Previous Score']]\n",
        "y=df[['Pass/Fail']]\n",
        "\n",
        "model=DecisionTreeClassifier()\n",
        "model.fit(X,y)\n",
        "\n",
        "predict=model.predict(X)\n",
        "print(predict)"
      ],
      "metadata": {
        "colab": {
          "base_uri": "https://localhost:8080/"
        },
        "id": "_tGAccWd5SBh",
        "outputId": "7b4a96e4-4afc-4f40-fcb5-50cdcd8e8c7c"
      },
      "execution_count": 5,
      "outputs": [
        {
          "output_type": "stream",
          "name": "stdout",
          "text": [
            "[1 0 1 1 0]\n"
          ]
        }
      ]
    }
  ]
}