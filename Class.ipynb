{
  "nbformat": 4,
  "nbformat_minor": 0,
  "metadata": {
    "colab": {
      "provenance": [],
      "authorship_tag": "ABX9TyOu59Mo7CbmBUg5kB5ZtXDo",
      "include_colab_link": true
    },
    "kernelspec": {
      "name": "python3",
      "display_name": "Python 3"
    },
    "language_info": {
      "name": "python"
    }
  },
  "cells": [
    {
      "cell_type": "markdown",
      "metadata": {
        "id": "view-in-github",
        "colab_type": "text"
      },
      "source": [
        "<a href=\"https://colab.research.google.com/github/Jeevaganesh04/Python-Practice/blob/main/Class.ipynb\" target=\"_parent\"><img src=\"https://colab.research.google.com/assets/colab-badge.svg\" alt=\"Open In Colab\"/></a>"
      ]
    },
    {
      "cell_type": "code",
      "execution_count": 1,
      "metadata": {
        "colab": {
          "base_uri": "https://localhost:8080/"
        },
        "id": "bWHdJCtW1pXm",
        "outputId": "892bacd5-8bf9-44e4-e3c4-3373bbbe8198"
      },
      "outputs": [
        {
          "output_type": "stream",
          "name": "stdout",
          "text": [
            "Title:Dune, Author:Frank Herbert, Price:1200\n",
            "Title:A song of Ice and Fire, Author:George RR Martin, Price:2000\n"
          ]
        }
      ],
      "source": [
        "class Book:\n",
        "    def __init__(self,title,author,price):\n",
        "        self.title=title\n",
        "        self.author=author\n",
        "        self.price=price\n",
        "\n",
        "    def display_details(self):\n",
        "        print(f\"Title:{self.title}, Author:{self.author}, Price:{self.price}\")\n",
        "\n",
        "book1=Book(\"Dune\",\"Frank Herbert\",\"1200\")\n",
        "book2=Book(\"A song of Ice and Fire\",\"George RR Martin\",\"2000\")\n",
        "book1.display_details()\n",
        "book2.display_details()"
      ]
    },
    {
      "cell_type": "code",
      "source": [
        "class Bank:\n",
        "    def __init__(self,accholder,balance=0):\n",
        "        self.accholder=accholder\n",
        "        self.balance=balance\n",
        "\n",
        "    def deposit(self,amount):\n",
        "        if self.balance>0:\n",
        "            self.balance+=amount\n",
        "            print(f\"Deposited = {amount}, Balance = Rs:{self.balance}\")\n",
        "\n",
        "    def withdraw(self,withdraw):\n",
        "        self.balance-=withdraw\n",
        "        print(f\"Remaining Balance = Rs:{self.balance}\")\n",
        "\n",
        "    def display_balance(self):\n",
        "        print(f\"Overall Balance = Rs:{self.balance}\")\n",
        "\n",
        "Client = Bank(\"Jeeva\",900)\n",
        "\n",
        "Client.display_balance()\n",
        "Client.deposit(2000)\n",
        "Client.withdraw(800)"
      ],
      "metadata": {
        "colab": {
          "base_uri": "https://localhost:8080/"
        },
        "id": "gOSf94Qa7znr",
        "outputId": "a0d50943-fb3f-4802-f91b-9129f7cb1190"
      },
      "execution_count": 3,
      "outputs": [
        {
          "output_type": "stream",
          "name": "stdout",
          "text": [
            "Overall Balance = Rs:900\n",
            "Deposited = 2000, Balance = Rs:2900\n",
            "Remaining Balance = Rs:2100\n"
          ]
        }
      ]
    },
    {
      "cell_type": "code",
      "source": [
        "class Vechicle:\n",
        "    def __init__(self,vechicle,speed):\n",
        "        self.vechicle=vechicle\n",
        "        self.speed=speed\n",
        "\n",
        "    def display_speed(self):\n",
        "        print(f\"Speed of the {self.vechicle} is {self.speed}kmph\")\n",
        "\n",
        "vechicle1=Vechicle(\"Car\",200)\n",
        "vechicle2=Vechicle(\"Bike\",100)\n",
        "\n",
        "vechicle1.display_speed()\n",
        "vechicle2.display_speed()\n",
        ""
      ],
      "metadata": {
        "colab": {
          "base_uri": "https://localhost:8080/"
        },
        "id": "M_o8Kcuq9N13",
        "outputId": "cd407819-2d9e-4f2d-e43a-ca6234f9a155"
      },
      "execution_count": 4,
      "outputs": [
        {
          "output_type": "stream",
          "name": "stdout",
          "text": [
            "Speed of the Car is 200kmph\n",
            "Speed of the Bike is 100kmph\n"
          ]
        }
      ]
    },
    {
      "cell_type": "code",
      "source": [
        "class Vehicle:\n",
        "    def __init__(self,vehicle,speed):\n",
        "        self.vehicle=vehicle\n",
        "        self.speed=speed\n",
        "\n",
        "    def display_speed(self):\n",
        "        print(f\"Speed of the {self.vehicle} is {self.speed}kmph\")\n",
        "\n",
        "class Child(Vehicle):\n",
        "    def __init__(self,vehicle,speed,fuel):\n",
        "        super().__init__(vehicle,speed)\n",
        "        self.fuel=fuel\n",
        "\n",
        "    def new_speed(self,newspeed):\n",
        "        self.speed=newspeed\n",
        "        print(f\"The new speed of the {self.vehicle} is {self.speed}\")\n",
        "\n",
        "    def display_fuel(self):\n",
        "        print(f\"The {self.vehicle} has {self.fuel}lts of Fuel left \")\n",
        "\n",
        "\n",
        "vehicle1=Child(\"Car\",200,10)\n",
        "vehicle2=Child(\"Bike\",100,6)\n",
        "\n",
        "vehicle1.display_speed()\n",
        "vehicle1.display_fuel()\n",
        "vehicle1.new_speed(250)\n",
        "vehicle2.display_speed()\n",
        "vehicle2.display_fuel()\n",
        "vehicle2.new_speed(120)\n",
        ""
      ],
      "metadata": {
        "colab": {
          "base_uri": "https://localhost:8080/"
        },
        "id": "lVC5FpyrALk2",
        "outputId": "220781c6-cce6-4e99-e635-5f7b16144a54"
      },
      "execution_count": 6,
      "outputs": [
        {
          "output_type": "stream",
          "name": "stdout",
          "text": [
            "Speed of the Car is 200kmph\n",
            "The Car has 10lts of Fuel left \n",
            "The new speed of the Car is 250\n",
            "Speed of the Bike is 100kmph\n",
            "The Bike has 6lts of Fuel left \n",
            "The new speed of the Bike is 120\n"
          ]
        }
      ]
    },
    {
      "cell_type": "code",
      "source": [
        "class person:\n",
        "    def __init__(self,name,age):\n",
        "        self.name=name\n",
        "        self.age=age\n",
        "\n",
        "    def display(self):\n",
        "        print(f\"Name:{self.name} Age:{self.age}\")\n",
        "\n",
        "class employee(person):\n",
        "    def __init__(self,name,age,job):\n",
        "        super().__init__(name,age)\n",
        "        self.job=job\n",
        "\n",
        "    def displayjob(self):\n",
        "        print(f\"Name:{self.name} Age:{self.age} Job:{self.job}\")\n",
        "\n",
        "class manager(employee):\n",
        "    def __init__(self,name,age,job,dept):\n",
        "        super().__init__(name,age,job)\n",
        "        self.dept=dept\n",
        "\n",
        "    def displaydept(self):\n",
        "        print(f\"Name:{self.name} Age:{self.age} Job:{self.job} Department:{self.dept}\")\n",
        "\n",
        "\n",
        "person1=person(\"Ganesh\",21)\n",
        "person1.display()\n",
        "person1=employee(\"Jeeva\",21,\"Tester\")\n",
        "person1.displayjob()\n",
        "person1=manager(\"Jeeva\",21,\"Tester\",\"Software Testing\")\n",
        "person1.displaydept()"
      ],
      "metadata": {
        "colab": {
          "base_uri": "https://localhost:8080/"
        },
        "id": "MThZbsEwCVgC",
        "outputId": "de576114-9802-4eaf-81ad-fc0bab00ee94"
      },
      "execution_count": 7,
      "outputs": [
        {
          "output_type": "stream",
          "name": "stdout",
          "text": [
            "Name:Ganesh Age:21\n",
            "Name:Jeeva Age:21 Job:Tester\n",
            "Name:Jeeva Age:21 Job:Tester Department:Software Testing\n"
          ]
        }
      ]
    },
    {
      "cell_type": "code",
      "source": [
        "class teacher:\n",
        "    def __init__(self,name):\n",
        "        self.name=name\n",
        "\n",
        "    def teach(self,subject):\n",
        "        self.subject=subject\n",
        "        print(f\"{self.name} has to teach {self.subject}\")\n",
        "\n",
        "class researcher:\n",
        "    def __init__(self,name):\n",
        "        self.name=name\n",
        "\n",
        "    def research(self,project):\n",
        "        self.project=project\n",
        "        print(f\"{self.name} is researching {self.project}\")\n",
        "\n",
        "class professor(teacher,researcher):\n",
        "    def __init__(self,name):\n",
        "        teacher.__init__(self,name)\n",
        "        researcher.__init__(self,name)\n",
        "\n",
        "    def mutual(self):\n",
        "        print(f\"{self.name} is also a teacher and a professor\")\n",
        "\n",
        "teacher1=teacher(\"Jeeva\")\n",
        "teacher1.teach(\"Maths\")\n",
        "\n",
        "researcher1=researcher(\"Ganesh\")\n",
        "researcher1.research(\"Science\")\n",
        "\n",
        "professor1=professor(\"Keanu\")\n",
        "professor1.mutual()\n",
        "professor1.teach(\"Science\")\n",
        "professor1.research(\"Plants\")\n"
      ],
      "metadata": {
        "colab": {
          "base_uri": "https://localhost:8080/"
        },
        "id": "7MPd1zzbKhBx",
        "outputId": "d73ab5e9-4581-406b-969d-2d97af789f13"
      },
      "execution_count": 1,
      "outputs": [
        {
          "output_type": "stream",
          "name": "stdout",
          "text": [
            "Jeeva has to teach Maths\n",
            "Ganesh is researching Science\n",
            "Keanu is also a teacher and a professor\n",
            "Keanu has to teach Science\n",
            "Keanu is researching Plants\n"
          ]
        }
      ]
    }
  ]
}