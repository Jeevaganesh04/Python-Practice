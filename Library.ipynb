{
  "nbformat": 4,
  "nbformat_minor": 0,
  "metadata": {
    "colab": {
      "provenance": [],
      "authorship_tag": "ABX9TyNzHgfTjD1XoYLGqxIigLrH",
      "include_colab_link": true
    },
    "kernelspec": {
      "name": "python3",
      "display_name": "Python 3"
    },
    "language_info": {
      "name": "python"
    }
  },
  "cells": [
    {
      "cell_type": "markdown",
      "metadata": {
        "id": "view-in-github",
        "colab_type": "text"
      },
      "source": [
        "<a href=\"https://colab.research.google.com/github/Jeevaganesh04/Python-Practice/blob/main/Library.ipynb\" target=\"_parent\"><img src=\"https://colab.research.google.com/assets/colab-badge.svg\" alt=\"Open In Colab\"/></a>"
      ]
    },
    {
      "cell_type": "code",
      "execution_count": 39,
      "metadata": {
        "colab": {
          "base_uri": "https://localhost:8080/"
        },
        "id": "oUJVPyMEpn3R",
        "outputId": "dc0ddcd2-d810-4d6b-b66c-908b21099277"
      },
      "outputs": [
        {
          "output_type": "stream",
          "name": "stdout",
          "text": [
            "1:The Alchemist has been added\n",
            "2:The Shining has been added\n",
            "3:The Silent Patient has been added\n",
            "1:The Alchemist\n",
            "2:The Shining\n",
            "3:The Silent Patient\n",
            "3:The Silent Patient\n",
            "New Title is The Song of Ice and Fire\n",
            "New Author is Georde R.R Martin\n",
            "The Alchemist has been removed\n",
            "2:The Song of Ice and Fire\n",
            "3:The Silent Patient\n"
          ]
        }
      ],
      "source": [
        "class Book:\n",
        "  def __init__(self,id,title,author):\n",
        "    self.id=id\n",
        "    self.title=title\n",
        "    self.author=author\n",
        "\n",
        "  def __str__(self):\n",
        "    return f\"{self.id}:{self.title}\"\n",
        "\n",
        "\n",
        "class Library:\n",
        "   def __init__(self):\n",
        "     self.books=[]\n",
        "\n",
        "   def add_book(self,book):\n",
        "     self.books.append(book)\n",
        "     print(f\"{book} has been added\")\n",
        "\n",
        "   def remove(self,book_id):\n",
        "     for book in self.books:\n",
        "       if book.id==book_id:\n",
        "         self.books.remove(book)\n",
        "         print(f\"{book.title} has been removed\")\n",
        "         return\n",
        "     print(\"Book not found\")\n",
        "\n",
        "   def update(self,book_id,ntitle,nauthor):\n",
        "     for book in self.books:\n",
        "       if book.id==book_id:\n",
        "        if ntitle:\n",
        "             book.title=ntitle\n",
        "        if nauthor:\n",
        "             book.author=nauthor\n",
        "        print(f\"New Title is {book.title}\")\n",
        "        print(f\"New Author is {book.author}\")\n",
        "\n",
        "\n",
        "   def search(self,keyword):\n",
        "     results=[]\n",
        "     for book in self.books:\n",
        "       if keyword.lower() in book.title.lower() or keyword.lower() in book.author.lower():\n",
        "         results.append(book)\n",
        "         print(book)\n",
        "\n",
        "   def display(self):\n",
        "     for book in self.books:\n",
        "       print(book)\n",
        "\n",
        "\n",
        "library=Library()\n",
        "\n",
        "library.add_book(Book(1,\"The Alchemist\" ,\"Paulo Coelho\"))\n",
        "library.add_book(Book(2,\"The Shining\",\"Stephen King\"))\n",
        "library.add_book(Book(3,\"The Silent Patient\",\"ALex Michaladies\"))\n",
        "\n",
        "library.display()\n",
        "library.search(\"Silent\")\n",
        "\n",
        "library.update(2,\"The Song of Ice and Fire\",\"Georde R.R Martin\")\n",
        "\n",
        "library.remove(1)\n",
        "library.display()\n",
        ""
      ]
    }
  ]
}