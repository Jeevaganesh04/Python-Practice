{
  "nbformat": 4,
  "nbformat_minor": 0,
  "metadata": {
    "colab": {
      "provenance": [],
      "authorship_tag": "ABX9TyPYBSZZ06pZpH9YH0gbZGmR",
      "include_colab_link": true
    },
    "kernelspec": {
      "name": "python3",
      "display_name": "Python 3"
    },
    "language_info": {
      "name": "python"
    }
  },
  "cells": [
    {
      "cell_type": "markdown",
      "metadata": {
        "id": "view-in-github",
        "colab_type": "text"
      },
      "source": [
        "<a href=\"https://colab.research.google.com/github/Jeevaganesh04/Python-Practice/blob/main/python_practice.ipynb\" target=\"_parent\"><img src=\"https://colab.research.google.com/assets/colab-badge.svg\" alt=\"Open In Colab\"/></a>"
      ]
    },
    {
      "cell_type": "code",
      "execution_count": 1,
      "metadata": {
        "colab": {
          "base_uri": "https://localhost:8080/"
        },
        "id": "qpbVqS9wK_54",
        "outputId": "02c923c4-d8c4-482b-cf6d-3d3b2fb89bc0"
      },
      "outputs": [
        {
          "output_type": "stream",
          "name": "stdout",
          "text": [
            "('C', 'Python', 'Java', 'C++', 'C#')\n"
          ]
        }
      ],
      "source": [
        "tup=(\"C\",\"Python\",\"Java\",\"C++\",\"C#\")\n",
        "print(tup)"
      ]
    },
    {
      "cell_type": "code",
      "source": [
        "tup=(10,20,30,40,50)\n",
        "print(f\"First Element:\",tup[0])\n",
        "print(f\"Last Element:\",tup[-1])\n",
        "print(f\"Reverse: \",tup[::-1])"
      ],
      "metadata": {
        "colab": {
          "base_uri": "https://localhost:8080/"
        },
        "id": "qPWIUmQpLYJU",
        "outputId": "66c33405-41bc-4e0c-91e1-1d49011a6bd0"
      },
      "execution_count": 2,
      "outputs": [
        {
          "output_type": "stream",
          "name": "stdout",
          "text": [
            "First Element: 10\n",
            "Last Element: 50\n",
            "Reverse:  (50, 40, 30, 20, 10)\n"
          ]
        }
      ]
    },
    {
      "cell_type": "code",
      "source": [
        "tup=(85,90,78,92,85,90)\n",
        "count=0\n",
        "for i in range(len(tup)):\n",
        "    if tup[i]==90:\n",
        "        count+=1\n",
        "    if tup[i]==78:\n",
        "        print(f\"Index of 78 is :\",i)\n",
        "print(f\"90 has repeated {count} times\")"
      ],
      "metadata": {
        "colab": {
          "base_uri": "https://localhost:8080/"
        },
        "id": "AYyMJa0NMG4d",
        "outputId": "b49adf71-5fa1-4f42-f849-43e1a6630529"
      },
      "execution_count": 3,
      "outputs": [
        {
          "output_type": "stream",
          "name": "stdout",
          "text": [
            "Index of 78 is : 2\n",
            "90 has repeated 2 times\n"
          ]
        }
      ]
    },
    {
      "cell_type": "code",
      "source": [
        "student=(\"John\",21,\"Computer Science\")\n",
        "x,y,z=student\n",
        "print(x)\n",
        "print(y)\n",
        "print(z)"
      ],
      "metadata": {
        "colab": {
          "base_uri": "https://localhost:8080/"
        },
        "id": "NGhiyJ-VNAFL",
        "outputId": "d64994ca-502c-4f34-a04a-27ff4026547e"
      },
      "execution_count": 4,
      "outputs": [
        {
          "output_type": "stream",
          "name": "stdout",
          "text": [
            "John\n",
            "21\n",
            "Computer Science\n"
          ]
        }
      ]
    },
    {
      "cell_type": "code",
      "source": [
        "tup=(1,2,3,4,5,6)\n",
        "tup[2]=5\n",
        "print(tup)"
      ],
      "metadata": {
        "colab": {
          "base_uri": "https://localhost:8080/",
          "height": 176
        },
        "id": "yLbJVd_6NmiW",
        "outputId": "05e856dc-bccc-452a-f094-e6eb4e9a6b1d"
      },
      "execution_count": 5,
      "outputs": [
        {
          "output_type": "error",
          "ename": "TypeError",
          "evalue": "'tuple' object does not support item assignment",
          "traceback": [
            "\u001b[0;31m---------------------------------------------------------------------------\u001b[0m",
            "\u001b[0;31mTypeError\u001b[0m                                 Traceback (most recent call last)",
            "\u001b[0;32m<ipython-input-5-e862c8ef9acf>\u001b[0m in \u001b[0;36m<cell line: 0>\u001b[0;34m()\u001b[0m\n\u001b[1;32m      1\u001b[0m \u001b[0mtup\u001b[0m\u001b[0;34m=\u001b[0m\u001b[0;34m(\u001b[0m\u001b[0;36m1\u001b[0m\u001b[0;34m,\u001b[0m\u001b[0;36m2\u001b[0m\u001b[0;34m,\u001b[0m\u001b[0;36m3\u001b[0m\u001b[0;34m,\u001b[0m\u001b[0;36m4\u001b[0m\u001b[0;34m,\u001b[0m\u001b[0;36m5\u001b[0m\u001b[0;34m,\u001b[0m\u001b[0;36m6\u001b[0m\u001b[0;34m)\u001b[0m\u001b[0;34m\u001b[0m\u001b[0;34m\u001b[0m\u001b[0m\n\u001b[0;32m----> 2\u001b[0;31m \u001b[0mtup\u001b[0m\u001b[0;34m[\u001b[0m\u001b[0;36m2\u001b[0m\u001b[0;34m]\u001b[0m\u001b[0;34m=\u001b[0m\u001b[0;36m5\u001b[0m\u001b[0;34m\u001b[0m\u001b[0;34m\u001b[0m\u001b[0m\n\u001b[0m\u001b[1;32m      3\u001b[0m \u001b[0mprint\u001b[0m\u001b[0;34m(\u001b[0m\u001b[0mtup\u001b[0m\u001b[0;34m)\u001b[0m\u001b[0;34m\u001b[0m\u001b[0;34m\u001b[0m\u001b[0m\n",
            "\u001b[0;31mTypeError\u001b[0m: 'tuple' object does not support item assignment"
          ]
        }
      ]
    },
    {
      "cell_type": "code",
      "source": [
        "tup=(1,2,3,4,5,6)\n",
        "tup1=(7,8,9,0)\n",
        "print(tup+tup1)"
      ],
      "metadata": {
        "colab": {
          "base_uri": "https://localhost:8080/"
        },
        "id": "SmsQqFGyOnOd",
        "outputId": "c56fbc2f-5bba-43f6-b216-1aaac9d44cc6"
      },
      "execution_count": 6,
      "outputs": [
        {
          "output_type": "stream",
          "name": "stdout",
          "text": [
            "(1, 2, 3, 4, 5, 6, 7, 8, 9, 0)\n"
          ]
        }
      ]
    },
    {
      "cell_type": "code",
      "source": [
        "student=((\"Jeeva\",90),(\"Ganesh\",45),(\"Jg\",100))\n",
        "print(student)"
      ],
      "metadata": {
        "colab": {
          "base_uri": "https://localhost:8080/"
        },
        "id": "H_MuiFerO2SD",
        "outputId": "ebadad1a-59b6-4a3f-a595-6a4a5f5edd5c"
      },
      "execution_count": 7,
      "outputs": [
        {
          "output_type": "stream",
          "name": "stdout",
          "text": [
            "(('Jeeva', 90), ('Ganesh', 45), ('Jg', 100))\n"
          ]
        }
      ]
    },
    {
      "cell_type": "code",
      "source": [
        "fruits=(\"Apple\",\"Banana\",\"Cherry\")\n",
        "lfruits=list(fruits)\n",
        "lfruits[1]=\"Strawberry\"\n",
        "tfruits=tuple(lfruits)\n",
        "print(tfruits)"
      ],
      "metadata": {
        "colab": {
          "base_uri": "https://localhost:8080/"
        },
        "id": "OCKo9BxtP2O6",
        "outputId": "adeb9089-ef52-4dae-8e41-3eb4088f8ff8"
      },
      "execution_count": 8,
      "outputs": [
        {
          "output_type": "stream",
          "name": "stdout",
          "text": [
            "('Apple', 'Strawberry', 'Cherry')\n"
          ]
        }
      ]
    },
    {
      "cell_type": "code",
      "source": [
        "dct={\n",
        "    \"Name\":\"Jeeva\",\n",
        "    \"Age\":21,\n",
        "    \"Department\":\"AI&DS\"\n",
        "}\n",
        "print(dct)"
      ],
      "metadata": {
        "colab": {
          "base_uri": "https://localhost:8080/"
        },
        "id": "3i91VZE1Q2QK",
        "outputId": "07bb71cb-209c-40e4-d598-f8a9f7b3ad2f"
      },
      "execution_count": 9,
      "outputs": [
        {
          "output_type": "stream",
          "name": "stdout",
          "text": [
            "{'Name': 'Jeeva', 'Age': 21, 'Department': 'AI&DS'}\n"
          ]
        }
      ]
    },
    {
      "cell_type": "code",
      "source": [
        "dct={\n",
        "    \"Name\":\"Alice\",\n",
        "    \"Age\":25,\n",
        "    \"City\":\"New York\"\n",
        "}\n",
        "print(dct[\"Name\"])\n",
        "\n",
        "if \"City\" in dct:\n",
        "    print(\"Yes, City exixts\")\n",
        "else:\n",
        "    print(\"No,there is not city in this dictionary\")"
      ],
      "metadata": {
        "colab": {
          "base_uri": "https://localhost:8080/"
        },
        "id": "t0lTo8oGSoni",
        "outputId": "f29250ff-9102-4106-ad17-491c9c41b309"
      },
      "execution_count": 11,
      "outputs": [
        {
          "output_type": "stream",
          "name": "stdout",
          "text": [
            "Alice\n",
            "Yes, City exixts\n"
          ]
        }
      ]
    },
    {
      "cell_type": "code",
      "source": [
        "dct={\n",
        "    \"Name\":\"Jeeva\",\n",
        "    \"Age\":21,\n",
        "    \"Department\":\"AI&DS\"\n",
        "}\n",
        "dct[\"Gender\"]=\"Male\"\n",
        "print(dct)"
      ],
      "metadata": {
        "colab": {
          "base_uri": "https://localhost:8080/"
        },
        "id": "ppV_fHz0TGP6",
        "outputId": "ff1139b3-220c-4453-a15c-d61d97fc5627"
      },
      "execution_count": 12,
      "outputs": [
        {
          "output_type": "stream",
          "name": "stdout",
          "text": [
            "{'Name': 'Jeeva', 'Age': 21, 'Department': 'AI&DS', 'Gender': 'Male'}\n"
          ]
        }
      ]
    },
    {
      "cell_type": "code",
      "source": [
        "dct={\n",
        "    \"Name\":\"Jeeva\",\n",
        "    \"Age\":21,\n",
        "    \"Department\":\"AI&DS\"\n",
        "}\n",
        "dct[\"Department\"]=\"Data Science\"\n",
        "print(dct)"
      ],
      "metadata": {
        "colab": {
          "base_uri": "https://localhost:8080/"
        },
        "id": "PpI9xiYmTQ_f",
        "outputId": "7843c6bc-a94e-4ea9-9211-cf49a2b371a1"
      },
      "execution_count": 13,
      "outputs": [
        {
          "output_type": "stream",
          "name": "stdout",
          "text": [
            "{'Name': 'Jeeva', 'Age': 21, 'Department': 'Data Science'}\n"
          ]
        }
      ]
    },
    {
      "cell_type": "code",
      "source": [
        "dct={\n",
        "    \"Name\":\"Jeeva\",\n",
        "    \"Age\":21,\n",
        "    \"Department\":\"AI&DS\",\n",
        "    \"Gender\":\"Male\"\n",
        "}\n",
        "del dct[\"Age\"]\n",
        "print(dct)\n"
      ],
      "metadata": {
        "colab": {
          "base_uri": "https://localhost:8080/"
        },
        "id": "gex_ZumyUpW7",
        "outputId": "e1d3c838-9d7f-44ab-ca01-5548b3fa4d64"
      },
      "execution_count": 14,
      "outputs": [
        {
          "output_type": "stream",
          "name": "stdout",
          "text": [
            "{'Name': 'Jeeva', 'Department': 'AI&DS', 'Gender': 'Male'}\n"
          ]
        }
      ]
    },
    {
      "cell_type": "code",
      "source": [
        "dct={\n",
        "    \"Name\":\"Jeeva\",\n",
        "    \"Age\":21,\n",
        "    \"Department\":\"AI&DS\",\n",
        "    \"Gender\":\"Male\",\n",
        "    \"State\":\"Tamil Nadu\"\n",
        "}\n",
        "for i,j in dct.items():\n",
        "    print(f\"Key: {i}, Value: {j}\")"
      ],
      "metadata": {
        "colab": {
          "base_uri": "https://localhost:8080/"
        },
        "id": "AiF0kVrGV6_C",
        "outputId": "cba4f6b0-3977-4fef-890d-eab822ecab2a"
      },
      "execution_count": 15,
      "outputs": [
        {
          "output_type": "stream",
          "name": "stdout",
          "text": [
            "Key: Name, Value: Jeeva\n",
            "Key: Age, Value: 21\n",
            "Key: Department, Value: AI&DS\n",
            "Key: Gender, Value: Male\n",
            "Key: State, Value: Tamil Nadu\n"
          ]
        }
      ]
    },
    {
      "cell_type": "code",
      "source": [
        "fruits = [\"apple\",\"banana\",\"apple\",\"orange\",\"banana\",\"banana\"]\n",
        "dct={}\n",
        "for i in fruits:\n",
        "    if i in dct:\n",
        "        dct[i]+=1\n",
        "    else:\n",
        "        dct[i]=1\n",
        "print(dct)"
      ],
      "metadata": {
        "colab": {
          "base_uri": "https://localhost:8080/"
        },
        "id": "iykXQtcvX3yW",
        "outputId": "f1987f3d-dfba-4219-d2c8-70b9a578d6a6"
      },
      "execution_count": 16,
      "outputs": [
        {
          "output_type": "stream",
          "name": "stdout",
          "text": [
            "{'apple': 2, 'banana': 3, 'orange': 1}\n"
          ]
        }
      ]
    },
    {
      "cell_type": "code",
      "source": [
        "students={\n",
        "    \"student1\":{\n",
        "        \"Name\":\"Jeeva\",\n",
        "        \"Age\":21,\n",
        "        \"Marks\":90\n",
        "    },\n",
        "    \"student2\":{\n",
        "        \"Name\":\"Jim\",\n",
        "        \"Age\":29,\n",
        "        \"Marks\":95\n",
        "    },\n",
        "    \"student3\":{\n",
        "        \"Name\":\"Dwight\",\n",
        "        \"Age\":31,\n",
        "        \"Marks\":100\n",
        "    }\n",
        "}\n",
        "print(students)"
      ],
      "metadata": {
        "colab": {
          "base_uri": "https://localhost:8080/"
        },
        "id": "AOz6L3bMY-X6",
        "outputId": "f8b50e59-1b67-412b-84dc-96af49a78b0b"
      },
      "execution_count": 17,
      "outputs": [
        {
          "output_type": "stream",
          "name": "stdout",
          "text": [
            "{'student1': {'Name': 'Jeeva', 'Age': 21, 'Marks': 90}, 'student2': {'Name': 'Jim', 'Age': 29, 'Marks': 95}, 'student3': {'Name': 'Dwight', 'Age': 31, 'Marks': 100}}\n"
          ]
        }
      ]
    },
    {
      "cell_type": "code",
      "source": [
        "dct1={\"a\":1,\"b\":2}\n",
        "dct2={\"c\":3,\"d\":4}\n",
        "merged={**dct1,**dct2}\n",
        "print(merged)"
      ],
      "metadata": {
        "colab": {
          "base_uri": "https://localhost:8080/"
        },
        "id": "AJ1IpKumaC-1",
        "outputId": "b2f89dc8-9893-45d6-cff1-e2e8fcd76969"
      },
      "execution_count": 18,
      "outputs": [
        {
          "output_type": "stream",
          "name": "stdout",
          "text": [
            "{'a': 1, 'b': 2, 'c': 3, 'd': 4}\n"
          ]
        }
      ]
    },
    {
      "cell_type": "code",
      "source": [
        "city={\"Gotham\",\"Newyork\",\"Metropolis\",\"Bengaluru\",\"Chennai\"}\n",
        "print(city)"
      ],
      "metadata": {
        "colab": {
          "base_uri": "https://localhost:8080/"
        },
        "id": "W-8r4t_ibKgf",
        "outputId": "ed25eb4c-0bf0-4104-a0c3-490f9d186447"
      },
      "execution_count": 19,
      "outputs": [
        {
          "output_type": "stream",
          "name": "stdout",
          "text": [
            "{'Bengaluru', 'Chennai', 'Gotham', 'Metropolis', 'Newyork'}\n"
          ]
        }
      ]
    },
    {
      "cell_type": "code",
      "source": [
        "city={1,2,3,4,5}\n",
        "city.add(6)\n",
        "city.remove(3)\n",
        "city.remove(10)\n",
        "print(city)"
      ],
      "metadata": {
        "colab": {
          "base_uri": "https://localhost:8080/",
          "height": 193
        },
        "id": "omsx5mbEbxd4",
        "outputId": "9ff65057-d2ce-426e-cd2b-95ac165a3b8a"
      },
      "execution_count": 23,
      "outputs": [
        {
          "output_type": "error",
          "ename": "KeyError",
          "evalue": "10",
          "traceback": [
            "\u001b[0;31m---------------------------------------------------------------------------\u001b[0m",
            "\u001b[0;31mKeyError\u001b[0m                                  Traceback (most recent call last)",
            "\u001b[0;32m<ipython-input-23-0146d322ad56>\u001b[0m in \u001b[0;36m<cell line: 0>\u001b[0;34m()\u001b[0m\n\u001b[1;32m      2\u001b[0m \u001b[0mcity\u001b[0m\u001b[0;34m.\u001b[0m\u001b[0madd\u001b[0m\u001b[0;34m(\u001b[0m\u001b[0;36m6\u001b[0m\u001b[0;34m)\u001b[0m\u001b[0;34m\u001b[0m\u001b[0;34m\u001b[0m\u001b[0m\n\u001b[1;32m      3\u001b[0m \u001b[0mcity\u001b[0m\u001b[0;34m.\u001b[0m\u001b[0mremove\u001b[0m\u001b[0;34m(\u001b[0m\u001b[0;36m3\u001b[0m\u001b[0;34m)\u001b[0m\u001b[0;34m\u001b[0m\u001b[0;34m\u001b[0m\u001b[0m\n\u001b[0;32m----> 4\u001b[0;31m \u001b[0mcity\u001b[0m\u001b[0;34m.\u001b[0m\u001b[0mremove\u001b[0m\u001b[0;34m(\u001b[0m\u001b[0;36m10\u001b[0m\u001b[0;34m)\u001b[0m\u001b[0;34m\u001b[0m\u001b[0;34m\u001b[0m\u001b[0m\n\u001b[0m\u001b[1;32m      5\u001b[0m \u001b[0mprint\u001b[0m\u001b[0;34m(\u001b[0m\u001b[0mcity\u001b[0m\u001b[0;34m)\u001b[0m\u001b[0;34m\u001b[0m\u001b[0;34m\u001b[0m\u001b[0m\n",
            "\u001b[0;31mKeyError\u001b[0m: 10"
          ]
        }
      ]
    },
    {
      "cell_type": "code",
      "source": [
        "city={\"Gotham\",\"Newyork\",\"Metropolis\",\"Bengaluru\",\"Chennai\"}\n",
        "print(len(city))"
      ],
      "metadata": {
        "colab": {
          "base_uri": "https://localhost:8080/"
        },
        "id": "M2VpCntacG6h",
        "outputId": "c47eef05-fa84-4ea7-d93b-5f208fad0ae3"
      },
      "execution_count": 24,
      "outputs": [
        {
          "output_type": "stream",
          "name": "stdout",
          "text": [
            "5\n"
          ]
        }
      ]
    },
    {
      "cell_type": "code",
      "source": [
        "num1={1,2,3,4,5,6,7}\n",
        "num2={5,6,7,8,9,0}\n",
        "print(\"Common Elements: \",num1&num2)\n",
        "print(\"Different Elements: \",num1-num2)"
      ],
      "metadata": {
        "colab": {
          "base_uri": "https://localhost:8080/"
        },
        "id": "MCurlgb4c6C1",
        "outputId": "81f6edfd-8183-4e82-df0f-549f17165307"
      },
      "execution_count": 25,
      "outputs": [
        {
          "output_type": "stream",
          "name": "stdout",
          "text": [
            "Common Elements:  {5, 6, 7}\n",
            "Different Elements:  {1, 2, 3, 4}\n"
          ]
        }
      ]
    },
    {
      "cell_type": "code",
      "source": [
        "set1={i**2 for i in range(1,6)}\n",
        "print(set1)"
      ],
      "metadata": {
        "colab": {
          "base_uri": "https://localhost:8080/"
        },
        "id": "FbjGgoZedS5O",
        "outputId": "a84cfbd7-5255-4cfa-bbfa-81718a1d0b32"
      },
      "execution_count": 27,
      "outputs": [
        {
          "output_type": "stream",
          "name": "stdout",
          "text": [
            "{1, 4, 9, 16, 25}\n"
          ]
        }
      ]
    }
  ]
}