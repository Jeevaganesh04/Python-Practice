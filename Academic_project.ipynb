{
  "nbformat": 4,
  "nbformat_minor": 0,
  "metadata": {
    "colab": {
      "provenance": [],
      "authorship_tag": "ABX9TyOb8BGmvI6uFLOMupfCj8Bm",
      "include_colab_link": true
    },
    "kernelspec": {
      "name": "python3",
      "display_name": "Python 3"
    },
    "language_info": {
      "name": "python"
    }
  },
  "cells": [
    {
      "cell_type": "markdown",
      "metadata": {
        "id": "view-in-github",
        "colab_type": "text"
      },
      "source": [
        "<a href=\"https://colab.research.google.com/github/Jeevaganesh04/Python-Practice/blob/main/Academic_project.ipynb\" target=\"_parent\"><img src=\"https://colab.research.google.com/assets/colab-badge.svg\" alt=\"Open In Colab\"/></a>"
      ]
    },
    {
      "cell_type": "code",
      "execution_count": null,
      "metadata": {
        "id": "xWq0cYrmAM3a"
      },
      "outputs": [],
      "source": [
        "student={}\n",
        "def enter():\n",
        "    while True:\n",
        "        new=input(\"Press 1 to add student \\npress 2 to update marks \\npress 3 to find avg \\npress 4 to find topper \\npress 5 for all records\")\n",
        "        lst=['1','2','3','4','5']\n",
        "        if new in lst:\n",
        "            return new\n",
        "def adds():\n",
        "    name=input(\"Enter Students name: \")\n",
        "    rollno=int(input(\"Enter Roll number: \"))\n",
        "    subjects=input(\"Enter subjects\").split(\" \")\n",
        "    marks={}\n",
        "    for i in subjects:\n",
        "        mark=int(input(f\"Enter marks for {i} \"))\n",
        "        marks[i]=mark\n",
        "\n",
        "    student[rollno]={\n",
        "        'name':name,\n",
        "        'rollno':rollno,\n",
        "        'subjects':subjects,\n",
        "        'marks':marks\n",
        "    }\n",
        "\n",
        "    print(f\"Student has been added {student[rollno]}\")\n",
        "\n",
        "def upmarks():\n",
        "    rollno=int(input(\"Enter Roll no\"))\n",
        "    if rollno in student:\n",
        "        subjects=input(\"Enter subjects\")\n",
        "        if subjects in student[rollno][\"marks\"]:\n",
        "            marks=int(input(\"Enter new mark\"))\n",
        "            student[rollno][\"marks\"]=marks\n",
        "            print(f\"The new updated marks for {subjects} is \",student[rollno][\"marks\"])\n",
        "\n",
        "def avrg():\n",
        "    rollno=int(input(\"Enter roll no\"))\n",
        "    if rollno in student:\n",
        "        mark=student[rollno][\"marks\"].values()\n",
        "        avg=sum(mark)/len(mark)\n",
        "        print(avg)\n",
        "\n",
        "def topper():\n",
        "    top_student = None\n",
        "    top_avg = 0\n",
        "\n",
        "    for rollno, data in student.items():\n",
        "        avg = sum(data[\"marks\"].values()) / len(data[\"marks\"])\n",
        "        if avg > top_avg:\n",
        "            top_avg = avg\n",
        "            top_student = (data[\"name\"], rollno, top_avg)\n",
        "    print(top_student)\n",
        "\n",
        "def record():\n",
        "    print(student)\n",
        "\n",
        "def main():\n",
        "\n",
        "    while True:\n",
        "        new=enter()\n",
        "        if new=='1':\n",
        "            adds()\n",
        "        if new=='2':\n",
        "            upmarks()\n",
        "        if new=='3':\n",
        "            avrg()\n",
        "        if new=='4':\n",
        "            topper()\n",
        "        if new=='5':\n",
        "            record()\n",
        "main()\n"
      ]
    }
  ]
}