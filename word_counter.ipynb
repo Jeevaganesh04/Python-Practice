{
  "nbformat": 4,
  "nbformat_minor": 0,
  "metadata": {
    "colab": {
      "provenance": [],
      "authorship_tag": "ABX9TyOrdTBrbyXzgcaretYIWXyv",
      "include_colab_link": true
    },
    "kernelspec": {
      "name": "python3",
      "display_name": "Python 3"
    },
    "language_info": {
      "name": "python"
    }
  },
  "cells": [
    {
      "cell_type": "markdown",
      "metadata": {
        "id": "view-in-github",
        "colab_type": "text"
      },
      "source": [
        "<a href=\"https://colab.research.google.com/github/Jeevaganesh04/Python-Practice/blob/main/word_counter.ipynb\" target=\"_parent\"><img src=\"https://colab.research.google.com/assets/colab-badge.svg\" alt=\"Open In Colab\"/></a>"
      ]
    },
    {
      "cell_type": "code",
      "execution_count": null,
      "metadata": {
        "id": "TYfCJFLKjnMX"
      },
      "outputs": [],
      "source": [
        "\n",
        "import re\n",
        "from collections import Counter\n",
        "\n",
        "choice=input(\"Manual or File: \").lower()\n",
        "\n",
        "if choice==\"file\":\n",
        "    fname=input(\"Enter the file name: \").strip()\n",
        "    with open (fname ,'r', encoding=\"utf-8\") as file:\n",
        "        text=file.read()\n",
        "\n",
        "else:\n",
        "    text=input(\"Enter a sentence: \")\n",
        "\n",
        "stopwords={\"is\",\"the\",\"a\",\"an\",\"in\",\"on\",\"and\",\"for\",\"with\",\"at\",\"by\"}\n",
        "\n",
        "words=re.findall(r'\\b\\w+\\b',text.lower())\n",
        "\n",
        "fwords=[word for word in words if word not in stopwords]\n",
        "\n",
        "wcount=Counter(fwords)\n",
        "\n",
        "for word,count in wcount.items():\n",
        "    print(f\"{word}: {count}\")\n",
        "\n",
        "print(\"\\n Top 5 words:\")\n",
        "for word,count in wcount.most_common(5):\n",
        "    print(f\"{word}: {count}\")"
      ]
    }
  ]
}