{
  "nbformat": 4,
  "nbformat_minor": 0,
  "metadata": {
    "colab": {
      "provenance": [],
      "authorship_tag": "ABX9TyP+AcUr7yCpNCnEbHREYkLu",
      "include_colab_link": true
    },
    "kernelspec": {
      "name": "python3",
      "display_name": "Python 3"
    },
    "language_info": {
      "name": "python"
    }
  },
  "cells": [
    {
      "cell_type": "markdown",
      "metadata": {
        "id": "view-in-github",
        "colab_type": "text"
      },
      "source": [
        "<a href=\"https://colab.research.google.com/github/Jeevaganesh04/Python-Practice/blob/main/Time_Taken.ipynb\" target=\"_parent\"><img src=\"https://colab.research.google.com/assets/colab-badge.svg\" alt=\"Open In Colab\"/></a>"
      ]
    },
    {
      "cell_type": "code",
      "source": [
        "import time\n",
        "import matplotlib.pyplot as plt\n",
        "\n",
        "def bubble(arr):\n",
        "  n=len(arr)\n",
        "  for i in range(n-1):\n",
        "    for j in range(n-i-1):\n",
        "      if arr[j]>arr[j+1]:\n",
        "        arr[j],arr[j+1]=arr[j+1],arr[j]\n",
        "  return arr\n",
        "\n",
        "\n",
        "def merge(arr):\n",
        "  if len(arr)>1:\n",
        "    n=len(arr)\n",
        "    mid=n//2\n",
        "    right=arr[mid:]\n",
        "    left=arr[:mid]\n",
        "\n",
        "\n",
        "    right=(merge(right))\n",
        "    left=(merge(left))\n",
        "\n",
        "    i=j=k=0\n",
        "\n",
        "    while i<len(left) and j<len(right):\n",
        "       if left[i]<right[j]:\n",
        "         arr[k]=left[i]\n",
        "         i+=1\n",
        "\n",
        "       else:\n",
        "         arr[k]=right[j]\n",
        "         j+=1\n",
        "\n",
        "       k+=1\n",
        "\n",
        "\n",
        "    while i<len(left):\n",
        "       arr[k]=left[i]\n",
        "       i+=1\n",
        "       k+=1\n",
        "\n",
        "\n",
        "    while j<len(right):\n",
        "       arr[k]=right[j]\n",
        "       j+=1\n",
        "       k+=1\n",
        "  return arr\n",
        "\n",
        "def quick(arr):\n",
        "  if len(arr)<=1:\n",
        "    return arr\n",
        "\n",
        "  pivot=arr[len(arr)//2]\n",
        "  right=[x for x in arr if x > pivot]\n",
        "  middle=[x for x in arr if x==pivot]\n",
        "  left=[x for x in arr if x < pivot]\n",
        "  return quick(left) + middle + quick(right)\n",
        "\n",
        "lst=[87,56,32,90,54,21,89,74,20,69,83,38]\n",
        "\n",
        "def mtime(sort,arr):\n",
        "  start=time.time()\n",
        "  sort(arr[:])\n",
        "  end=time.time()\n",
        "  return end-start\n",
        "\n",
        "\n",
        "bubbletime=mtime(bubble,lst)\n",
        "mergetime=mtime(merge,lst)\n",
        "quicktime=mtime(quick,lst)\n",
        "\n",
        "names=[\"Bubble Sort\",\"Merge Sort\",\"Quick Sort\"]\n",
        "times=[bubbletime,mergetime,quicktime]\n",
        "\n",
        "\n",
        "plt.bar(names,times,color=[\"red\",\"blue\",\"green\"])\n",
        "plt.xlabel(\"Sorting Algoriths\")\n",
        "plt.ylabel(\"Time Taken (ms)\")\n",
        "plt.title(\"Visual Representation of time taken\")\n",
        "plt.show()"
      ],
      "metadata": {
        "colab": {
          "base_uri": "https://localhost:8080/",
          "height": 472
        },
        "id": "pTleeeG4MTAl",
        "outputId": "b31d063b-97fa-4cba-83f5-5a41e9323043"
      },
      "execution_count": 13,
      "outputs": [
        {
          "output_type": "display_data",
          "data": {
            "text/plain": [
              "<Figure size 640x480 with 1 Axes>"
            ],
            "image/png": "[encoded data removed]"
          },
          "metadata": {}
        }
      ]
    },
    {
      "cell_type": "code",
      "source": [
        "import time\n",
        "import matplotlib.pyplot as plt\n",
        "\n",
        "def bubble(arr):\n",
        "  n=len(arr)\n",
        "  for i in range(n-1):\n",
        "    for j in range(n-i-1):\n",
        "      if arr[j]>arr[j+1]:\n",
        "        arr[j],arr[j+1]=arr[j+1],arr[j]\n",
        "  return arr\n",
        "\n",
        "\n",
        "def merge(arr):\n",
        "  if len(arr)>1:\n",
        "    n=len(arr)\n",
        "    mid=n//2\n",
        "    right=arr[mid:]\n",
        "    left=arr[:mid]\n",
        "\n",
        "\n",
        "    right=(merge(right))\n",
        "    left=(merge(left))\n",
        "\n",
        "    i=j=k=0\n",
        "\n",
        "    while i<len(left) and j<len(right):\n",
        "       if left[i]<right[j]:\n",
        "         arr[k]=left[i]\n",
        "         i+=1\n",
        "\n",
        "       else:\n",
        "         arr[k]=right[j]\n",
        "         j+=1\n",
        "\n",
        "       k+=1\n",
        "\n",
        "\n",
        "    while i<len(left):\n",
        "       arr[k]=left[i]\n",
        "       i+=1\n",
        "       k+=1\n",
        "\n",
        "\n",
        "    while j<len(right):\n",
        "       arr[k]=right[j]\n",
        "       j+=1\n",
        "       k+=1\n",
        "  return arr\n",
        "\n",
        "def quick(arr):\n",
        "  if len(arr)<=1:\n",
        "    return arr\n",
        "\n",
        "  pivot=arr[len(arr)//2]\n",
        "  right=[x for x in arr if x > pivot]\n",
        "  middle=[x for x in arr if x==pivot]\n",
        "  left=[x for x in arr if x < pivot]\n",
        "  return quick(left) + middle + quick(right)\n",
        "\n",
        "lst=[87,56,32,90,54,21,89,74,20,69,83,38]\n",
        "\n",
        "def mtime(sort,arr):\n",
        "  start=time.time()\n",
        "  sort(arr[:])\n",
        "  end=time.time()\n",
        "  return end-start\n",
        "\n",
        "\n",
        "bubbletime=mtime(bubble,lst)\n",
        "mergetime=mtime(merge,lst)\n",
        "quicktime=mtime(quick,lst)\n",
        "\n",
        "print(f\"Bubble Sort Time: {bubbletime*1000:.3f} ms\")\n",
        "print(f\"Merge Sort Time: {mergetime*1000:.3f} ms\")\n",
        "print(f\"Quick Sort Time: {quicktime*1000:.3f} ms\")"
      ],
      "metadata": {
        "colab": {
          "base_uri": "https://localhost:8080/"
        },
        "id": "kF7jilpIZjlq",
        "outputId": "9974bf21-f93d-4152-95be-eddf678d9817"
      },
      "execution_count": 16,
      "outputs": [
        {
          "output_type": "stream",
          "name": "stdout",
          "text": [
            "Bubble Sort Time: 0.026 ms\n",
            "Merge Sort Time: 0.034 ms\n",
            "Quick Sort Time: 0.034 ms\n"
          ]
        }
      ]
    }
  ]
}